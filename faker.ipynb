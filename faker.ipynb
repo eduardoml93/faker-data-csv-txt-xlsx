{
 "cells": [
  {
   "cell_type": "code",
   "execution_count": 2,
   "metadata": {},
   "outputs": [
    {
     "name": "stdout",
     "output_type": "stream",
     "text": [
      "Collecting Faker\n",
      "  Downloading Faker-22.0.0-py3-none-any.whl (1.7 MB)\n",
      "     ---------------------------------------- 1.7/1.7 MB 2.5 MB/s eta 0:00:00\n",
      "Requirement already satisfied: python-dateutil>=2.4 in c:\\users\\blueshift\\appdata\\local\\programs\\python\\python39\\lib\\site-packages (from Faker) (2.8.2)\n",
      "Requirement already satisfied: six>=1.5 in c:\\users\\blueshift\\appdata\\local\\programs\\python\\python39\\lib\\site-packages (from python-dateutil>=2.4->Faker) (1.16.0)\n",
      "Installing collected packages: Faker\n",
      "Successfully installed Faker-22.0.0\n",
      "Note: you may need to restart the kernel to use updated packages.\n"
     ]
    },
    {
     "name": "stderr",
     "output_type": "stream",
     "text": [
      "\n",
      "[notice] A new release of pip available: 22.2.2 -> 23.3.2\n",
      "[notice] To update, run: python.exe -m pip install --upgrade pip\n"
     ]
    }
   ],
   "source": [
    "pip install Faker"
   ]
  },
  {
   "cell_type": "markdown",
   "metadata": {},
   "source": [
    "## criando XLSX fake"
   ]
  },
  {
   "cell_type": "code",
   "execution_count": 6,
   "metadata": {},
   "outputs": [],
   "source": [
    "import pandas as pd\n",
    "from faker import Faker\n",
    "\n",
    "fake = Faker('pt_BR')\n",
    "\n",
    "# Definindo o número de linhas para chegar próximo ao limite do Excel\n",
    "#num_linhas = 1048576 - 100 # Subtraindo 100 para deixar algum espaço\n",
    "num_linhas = 10 # Subtraindo 100 para deixar algum espaço\n",
    "\n",
    "# Gerando os dados\n",
    "dados = {\n",
    " 'nome': [fake.name() for _ in range(num_linhas)],\n",
    " 'cpf': [fake.cpf() for _ in range(num_linhas)],\n",
    " 'data': [fake.date() for _ in range(num_linhas)],\n",
    " 'datetime': [fake.date_time() for _ in range(num_linhas)],\n",
    " 'float_ponto': [fake.pyfloat() for _ in range(num_linhas)],\n",
    " 'float_virgula': [str(fake.pyfloat()).replace('.', ',') for _ in range(num_linhas)],\n",
    " 'int': [fake.pyint() for _ in range(num_linhas)],\n",
    " 'boolean': [fake.pybool() for _ in range(num_linhas)]\n",
    "}\n",
    "\n",
    "# Criando o DataFrame\n",
    "df = pd.DataFrame(dados)\n",
    "\n",
    "# Salvando o DataFrame como um arquivo .xlsx\n",
    "df.to_excel(\"arquivo_falso.xlsx\", index=False)\n",
    "\n"
   ]
  },
  {
   "cell_type": "markdown",
   "metadata": {},
   "source": [
    "## faker para o CSV"
   ]
  },
  {
   "cell_type": "code",
   "execution_count": 7,
   "metadata": {},
   "outputs": [],
   "source": [
    "import pandas as pd\n",
    "from faker import Faker\n",
    "\n",
    "fake = Faker('pt_BR')\n",
    "\n",
    "# Definindo o número de linhas para chegar próximo ao limite do Excel\n",
    "#num_linhas = 1048576 - 100 # Subtraindo 100 para deixar algum espaço\n",
    "num_linhas = 10 # Subtraindo 100 para deixar algum espaço\n",
    "\n",
    "# Gerando os dados\n",
    "dados = {\n",
    " 'nome': [fake.name() for _ in range(num_linhas)],\n",
    " 'cpf': [fake.cpf() for _ in range(num_linhas)],\n",
    " 'data': [fake.date() for _ in range(num_linhas)],\n",
    " 'datetime': [fake.date_time() for _ in range(num_linhas)],\n",
    " 'float_ponto': [fake.pyfloat() for _ in range(num_linhas)],\n",
    " 'float_virgula': [str(fake.pyfloat()).replace('.', ',') for _ in range(num_linhas)],\n",
    " 'int': [fake.pyint() for _ in range(num_linhas)],\n",
    " 'boolean': [fake.pybool() for _ in range(num_linhas)]\n",
    "}\n",
    "\n",
    "# Criando o DataFrame\n",
    "df = pd.DataFrame(dados)\n",
    "\n",
    "# Salvando o DataFrame como um arquivo .csv\n",
    "df.to_csv(\"arquivo_falso.csv\", index=False)\n",
    "\n"
   ]
  },
  {
   "cell_type": "markdown",
   "metadata": {},
   "source": [
    "## faker para o TXT"
   ]
  },
  {
   "cell_type": "code",
   "execution_count": 6,
   "metadata": {},
   "outputs": [],
   "source": [
    "import pandas as pd\n",
    "from faker import Faker\n",
    "\n",
    "fake = Faker('pt_BR')\n",
    "\n",
    "# Definindo o número de linhas para chegar próximo ao limite do Excel\n",
    "# num_linhas = 1048576 - 100 # Subtraindo 100 para deixar algum espaço\n",
    "num_linhas = 10 \n",
    "# Gerando os dados\n",
    "dados = {\n",
    " 'nome': [fake.name() for _ in range(num_linhas)],\n",
    " 'cpf': [fake.cpf() for _ in range(num_linhas)],\n",
    " 'data': [fake.date() for _ in range(num_linhas)],\n",
    " 'datetime': [fake.date_time() for _ in range(num_linhas)],\n",
    " 'float_ponto': [fake.pyfloat() for _ in range(num_linhas)],\n",
    " 'float_virgula': [str(fake.pyfloat()).replace('.', ',') for _ in range(num_linhas)],\n",
    " 'int': [fake.pyint() for _ in range(num_linhas)],\n",
    " 'boolean': [fake.pybool() for _ in range(num_linhas)]\n",
    "}\n",
    "\n",
    "# Criando o DataFrame\n",
    "df = pd.DataFrame(dados)\n",
    "\n",
    "# Salvando o DataFrame como um arquivo .txt\n",
    "df.to_csv('data.txt', sep=';', index=False)\n"
   ]
  }
 ],
 "metadata": {
  "kernelspec": {
   "display_name": "Python 3",
   "language": "python",
   "name": "python3"
  },
  "language_info": {
   "codemirror_mode": {
    "name": "ipython",
    "version": 3
   },
   "file_extension": ".py",
   "mimetype": "text/x-python",
   "name": "python",
   "nbconvert_exporter": "python",
   "pygments_lexer": "ipython3",
   "version": "3.9.13"
  }
 },
 "nbformat": 4,
 "nbformat_minor": 2
}
